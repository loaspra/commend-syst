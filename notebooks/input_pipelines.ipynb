{
 "cells": [
  {
   "cell_type": "markdown",
   "metadata": {},
   "source": [
    "# Data pipelines\n",
    "Here I design and test the functions that receive raw data and convert it to its final form (ready to be fed into the final model)"
   ]
  },
  {
   "cell_type": "code",
   "execution_count": null,
   "metadata": {},
   "outputs": [],
   "source": [
    "# import the libraries needed\n",
    "import pandas as pd\n",
    "import numpy as np\n",
    "from datetime import datetime\n",
    "import re\n",
    "from sklearn.model_selection import train_test_split"
   ]
  },
  {
   "cell_type": "code",
   "execution_count": null,
   "metadata": {},
   "outputs": [],
   "source": [
    "# Convert the raw dataset into a preprocessed .csv\n",
    "def raw_to_processed(raw_movies, raw_ratings):\n",
    "    pro_movies = raw_movies.copy()\n",
    "\n",
    "    # Extract the Year from the Title of the Movie (if its between parenthesis)\n",
    "    pro_movies['Year'] = pro_movies['title'].apply(\n",
    "        lambda x: int(x.split(\"(\")[-1][:4].replace(\")\", \"\").strip()) # if there are 2 years (like 2006-2010), the first year is taken\n",
    "            if \"(\" in x else np.nan)    # if theres a ( in the Name, set the year, else, a NA\n",
    "            \n",
    "    pro_movies['title'] = pro_movies['title'].apply(lambda x: re.sub(\"[\\(\\[].*?[\\)\\]]\", \"\", x).strip())\n",
    "\n",
    "    # copy raw ratings data:\n",
    "    pro_ratings = raw_ratings.copy()\n",
    "\n",
    "    # Add date column\n",
    "    pro_ratings['Date'] = pro_ratings['timestamp'].apply(lambda x: datetime.fromtimestamp(x))\n",
    "    \n",
    "    # One-hot encoding of genres: \n",
    "\n",
    "    # First get a list of lists (each list is the list of genres for each movie)\n",
    "    aux = [i.split('|') for i in pro_movies.genres.unique()]\n",
    "    # Then create a set (unique array of elements) and remove the no genres listed\n",
    "    vocab = list(set(i for k in aux for i in k))\n",
    "    vocab.remove('(no genres listed)')\n",
    "    print(\"Genres present in the dataset: \", vocab)\n",
    "\n",
    "    # Now, create a column for each genre:\n",
    "    for genre in vocab:\n",
    "        pro_movies[genre] = pro_movies.genres.apply(lambda x: 1 if genre in x else 0)\n",
    "\n",
    "    pro_ratings.to_csv(\"../data/processed/pro_ratings.csv\", encoding='utf-8')\n",
    "    pro_movies.to_csv(\"../data/processed/pro_movies.csv\", encoding='utf-8')\n"
   ]
  },
  {
   "cell_type": "code",
   "execution_count": null,
   "metadata": {},
   "outputs": [],
   "source": [
    "# function that returns a tf dataset ready to be fed to the model\n",
    "def processed_to_final(pro_ratings, pro_movies):\n",
    "    df_final_beta = pro_ratings.copy()\n",
    "\n",
    "    df_final_beta = df_final_beta.join(pro_movies.set_index('movieId'), on='movieId')\n",
    "    df_final_beta.drop('genres', axis=1)\n",
    "\n",
    "    train_df, test_df = train_test_split(df_final_beta, test_size=0.3)\n",
    "    train_df.to_csv(\"../data/final/train.csv\")\n",
    "    test_df.to_csv(\"../data/final/test.csv\")"
   ]
  }
 ],
 "metadata": {
  "kernelspec": {
   "display_name": "Python 3.9.7 ('base')",
   "language": "python",
   "name": "python3"
  },
  "language_info": {
   "codemirror_mode": {
    "name": "ipython",
    "version": 3
   },
   "file_extension": ".py",
   "mimetype": "text/x-python",
   "name": "python",
   "nbconvert_exporter": "python",
   "pygments_lexer": "ipython3",
   "version": "3.9.7"
  },
  "vscode": {
   "interpreter": {
    "hash": "ad2bdc8ecc057115af97d19610ffacc2b4e99fae6737bb82f5d7fb13d2f2c186"
   }
  }
 },
 "nbformat": 4,
 "nbformat_minor": 2
}
